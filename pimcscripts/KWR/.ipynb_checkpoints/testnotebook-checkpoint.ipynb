{
 "metadata": {
  "name": "testnotebook.ipynb"
 },
 "nbformat": 3,
 "nbformat_minor": 0,
 "worksheets": [
  {
   "cells": [
    {
     "cell_type": "code",
     "collapsed": false,
     "input": [
      "import numpy\n",
      "x = np.arange(20.0).reshape(5, 4)\n",
      "print x\n",
      "print np.size(x,0)\n",
      "print x.shape[1]-1\n",
      "data = np.array_split(x,[x.shape[1]-1,x.shape[1]],axis=1)[0]\n",
      "weights = np.array_split(x,[x.shape[1]-1,x.shape[1]],axis=1)[1]\n",
      "print data\n",
      "print weights"
     ],
     "language": "python",
     "metadata": {},
     "outputs": [
      {
       "output_type": "stream",
       "stream": "stdout",
       "text": [
        "[[  0.   1.   2.   3.]\n",
        " [  4.   5.   6.   7.]\n",
        " [  8.   9.  10.  11.]\n",
        " [ 12.  13.  14.  15.]\n",
        " [ 16.  17.  18.  19.]]\n",
        "5\n",
        "3\n",
        "[[  0.   1.   2.]\n",
        " [  4.   5.   6.]\n",
        " [  8.   9.  10.]\n",
        " [ 12.  13.  14.]\n",
        " [ 16.  17.  18.]]\n",
        "[[  3.]\n",
        " [  7.]\n",
        " [ 11.]\n",
        " [ 15.]\n",
        " [ 19.]]\n"
       ]
      }
     ],
     "prompt_number": 29
    },
    {
     "cell_type": "code",
     "collapsed": false,
     "input": [
      "np.average(data,0)"
     ],
     "language": "python",
     "metadata": {},
     "outputs": [
      {
       "metadata": {},
       "output_type": "pyout",
       "prompt_number": 28,
       "text": [
        "array([  8.,   9.,  10.])"
       ]
      }
     ],
     "prompt_number": 28
    },
    {
     "cell_type": "code",
     "collapsed": false,
     "input": [
      "import os\n",
      "filenames = ['gce-log-02.000-040.000-+020.000-0.00400-193369964.dat','gce-log-02.000-040.000-+020.000-0.00400-193369964.dat','gce-log-02.000-040.000-+020.000-0.00400-193369964.dat',]\n",
      "for i in range(len(filenames)):\n",
      "    print os.path.basename(filenames[i])"
     ],
     "language": "python",
     "metadata": {},
     "outputs": [
      {
       "output_type": "stream",
       "stream": "stdout",
       "text": [
        "gce-log-02.000-040.000-+020.000-0.00400-193369964.dat\n",
        "gce-log-02.000-040.000-+020.000-0.00400-193369964.dat\n",
        "gce-log-02.000-040.000-+020.000-0.00400-193369964.dat\n"
       ]
      }
     ],
     "prompt_number": 32
    },
    {
     "cell_type": "code",
     "collapsed": false,
     "input": [
      "import sys\n",
      "sys.path.append(\"Users/Kyle/local/pimcscripts/KWR/\")\n",
      "import pimchelp\n",
      "pimchelp.getFileNameParameters('gce-estimator-01.000-040.000--040.000-0.00400-193372783.dat')"
     ],
     "language": "python",
     "metadata": {},
     "outputs": [
      {
       "metadata": {},
       "output_type": "pyout",
       "prompt_number": 63,
       "text": [
        "['estimator', '01.000', '040.000', '-040.000', '0.00400', '193372783']"
       ]
      }
     ],
     "prompt_number": 63
    },
    {
     "cell_type": "code",
     "collapsed": false,
     "input": [
      "import os \n",
      "print os.path.abspath(os.getcwd())"
     ],
     "language": "python",
     "metadata": {},
     "outputs": [
      {
       "output_type": "stream",
       "stream": "stdout",
       "text": [
        "/\n"
       ]
      }
     ],
     "prompt_number": 41
    },
    {
     "cell_type": "code",
     "collapsed": false,
     "input": [],
     "language": "python",
     "metadata": {},
     "outputs": []
    }
   ],
   "metadata": {}
  }
 ]
}