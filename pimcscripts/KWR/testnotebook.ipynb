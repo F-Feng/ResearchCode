{
 "metadata": {
  "name": "",
  "signature": "sha256:0b441462b12663da11e7d61a784d882507d1d70857b2b05dc7f0b0ad8f8b2d6a"
 },
 "nbformat": 3,
 "nbformat_minor": 0,
 "worksheets": [
  {
   "cells": [
    {
     "cell_type": "code",
     "collapsed": false,
     "input": [
      "import numpy\n",
      "x = np.arange(42.0).reshape(7, 6)\n",
      "print x\n",
      "print np.size(x,0)\n",
      "print x.shape[1]-1\n",
      "data = np.array_split(x,[x.shape[1]-1,x.shape[1]],axis=1)[0]\n",
      "weights = np.array_split(x,[x.shape[1]-1,x.shape[1]],axis=1)[1]\n",
      "print data\n",
      "print weights"
     ],
     "language": "python",
     "metadata": {},
     "outputs": [
      {
       "output_type": "stream",
       "stream": "stdout",
       "text": [
        "[[  0.   1.   2.   3.   4.   5.]\n",
        " [  6.   7.   8.   9.  10.  11.]\n",
        " [ 12.  13.  14.  15.  16.  17.]\n",
        " [ 18.  19.  20.  21.  22.  23.]\n",
        " [ 24.  25.  26.  27.  28.  29.]\n",
        " [ 30.  31.  32.  33.  34.  35.]\n",
        " [ 36.  37.  38.  39.  40.  41.]]\n",
        "7\n",
        "5\n",
        "[[  0.   1.   2.   3.   4.]\n",
        " [  6.   7.   8.   9.  10.]\n",
        " [ 12.  13.  14.  15.  16.]\n",
        " [ 18.  19.  20.  21.  22.]\n",
        " [ 24.  25.  26.  27.  28.]\n",
        " [ 30.  31.  32.  33.  34.]\n",
        " [ 36.  37.  38.  39.  40.]]\n",
        "[[  5.]\n",
        " [ 11.]\n",
        " [ 17.]\n",
        " [ 23.]\n",
        " [ 29.]\n",
        " [ 35.]\n",
        " [ 41.]]\n"
       ]
      }
     ],
     "prompt_number": 58
    },
    {
     "cell_type": "code",
     "collapsed": false,
     "input": [
      "np.average(data,0)"
     ],
     "language": "python",
     "metadata": {},
     "outputs": [
      {
       "metadata": {},
       "output_type": "pyout",
       "prompt_number": 52,
       "text": [
        "array([ 18.,  19.,  20.,  21.,  22.])"
       ]
      }
     ],
     "prompt_number": 52
    },
    {
     "cell_type": "code",
     "collapsed": false,
     "input": [
      "dataArray=x[:,0::2]\n",
      "varArray=x[:,1::2]\n",
      "print weights\n",
      "print varArray\n",
      "print varArray*weights**2\n",
      "print np.sum(varArray*weights**2,0)\n",
      "print (np.sum(weights,0))**2\n",
      "print np.sum(varArray*weights**2,0)/(np.sum(weights,0))**2\n",
      "thing = np.array(None)\n",
      "print thing.flatten()"
     ],
     "language": "python",
     "metadata": {},
     "outputs": [
      {
       "output_type": "stream",
       "stream": "stdout",
       "text": [
        "[[  5.]\n",
        " [ 11.]\n",
        " [ 17.]\n",
        " [ 23.]\n",
        " [ 29.]\n",
        " [ 35.]\n",
        " [ 41.]]\n",
        "[[  1.   3.   5.]\n",
        " [  7.   9.  11.]\n",
        " [ 13.  15.  17.]\n",
        " [ 19.  21.  23.]\n",
        " [ 25.  27.  29.]\n",
        " [ 31.  33.  35.]\n",
        " [ 37.  39.  41.]]\n",
        "[[  2.50000000e+01   7.50000000e+01   1.25000000e+02]\n",
        " [  8.47000000e+02   1.08900000e+03   1.33100000e+03]\n",
        " [  3.75700000e+03   4.33500000e+03   4.91300000e+03]\n",
        " [  1.00510000e+04   1.11090000e+04   1.21670000e+04]\n",
        " [  2.10250000e+04   2.27070000e+04   2.43890000e+04]\n",
        " [  3.79750000e+04   4.04250000e+04   4.28750000e+04]\n",
        " [  6.21970000e+04   6.55590000e+04   6.89210000e+04]]\n",
        "[ 135877.  145299.  154721.]\n",
        "[ 25921.]\n",
        "[ 5.24196597  5.60545504  5.9689441 ]\n",
        "[None]\n"
       ]
      }
     ],
     "prompt_number": 60
    },
    {
     "cell_type": "code",
     "collapsed": false,
     "input": [
      "import os\n",
      "filenames = ['gce-log-02.000-040.000-+020.000-0.00400-193369964.dat','gce-log-02.000-040.000-+020.000-0.00400-193369964.dat','gce-log-02.000-040.000-+020.000-0.00400-193369964.dat',]\n",
      "for i in range(len(filenames)):\n",
      "    print os.path.basename(filenames[i])"
     ],
     "language": "python",
     "metadata": {},
     "outputs": [
      {
       "output_type": "stream",
       "stream": "stdout",
       "text": [
        "gce-log-02.000-040.000-+020.000-0.00400-193369964.dat\n",
        "gce-log-02.000-040.000-+020.000-0.00400-193369964.dat\n",
        "gce-log-02.000-040.000-+020.000-0.00400-193369964.dat\n"
       ]
      }
     ],
     "prompt_number": 32
    },
    {
     "cell_type": "code",
     "collapsed": false,
     "input": [
      "import sys\n",
      "sys.path.append(\"Users/Kyle/local/pimcscripts/KWR/\")\n",
      "import pimchelp\n",
      "pimchelp.getFileNameParameters('gce-estimator-01.000-040.000--040.000-0.00400-193372783.dat')"
     ],
     "language": "python",
     "metadata": {},
     "outputs": [
      {
       "metadata": {},
       "output_type": "pyout",
       "prompt_number": 63,
       "text": [
        "['estimator', '01.000', '040.000', '-040.000', '0.00400', '193372783']"
       ]
      }
     ],
     "prompt_number": 63
    },
    {
     "cell_type": "code",
     "collapsed": false,
     "input": [
      "import os \n",
      "print os.path.abspath(os.getcwd())"
     ],
     "language": "python",
     "metadata": {},
     "outputs": [
      {
       "output_type": "stream",
       "stream": "stdout",
       "text": [
        "/\n"
       ]
      }
     ],
     "prompt_number": 41
    },
    {
     "cell_type": "code",
     "collapsed": false,
     "input": [
      "import itertools\n",
      "def intersperse(delimiter, seq):\n",
      "    return itertools.islice(itertools.chain.from_iterable(itertools.izip(itertools.repeat(delimiter), seq)), 1, None)"
     ],
     "language": "python",
     "metadata": {},
     "outputs": [],
     "prompt_number": 6
    },
    {
     "cell_type": "code",
     "collapsed": false,
     "input": [
      "list1 = [i for i in range(1,11)]\n",
      "print list1\n",
      "list1.append('stuff')\n",
      "print list1"
     ],
     "language": "python",
     "metadata": {},
     "outputs": [
      {
       "output_type": "stream",
       "stream": "stdout",
       "text": [
        "[1, 2, 3, 4, 5, 6, 7, 8, 9, 10]\n",
        "[1, 2, 3, 4, 5, 6, 7, 8, 9, 10, 'stuff']\n"
       ]
      }
     ],
     "prompt_number": 16
    },
    {
     "cell_type": "code",
     "collapsed": false,
     "input": [
      "import itertools\n",
      "list1 = [i for i in range(1,11)]\n",
      "list2 = [i for i in range(11,21)]    \n",
      "one=itertools.islice(list1,0,None,2)\n",
      "two=itertools.islice(list2,0,None,2)\n",
      "for i in one:\n",
      "    print i"
     ],
     "language": "python",
     "metadata": {},
     "outputs": [
      {
       "output_type": "stream",
       "stream": "stdout",
       "text": [
        "1\n",
        "3\n",
        "5\n",
        "7\n",
        "9\n"
       ]
      }
     ],
     "prompt_number": 23
    },
    {
     "cell_type": "code",
     "collapsed": false,
     "input": [],
     "language": "python",
     "metadata": {},
     "outputs": []
    }
   ],
   "metadata": {}
  }
 ]
}